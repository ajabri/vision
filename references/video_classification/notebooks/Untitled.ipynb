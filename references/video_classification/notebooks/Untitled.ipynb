{
 "cells": [
  {
   "cell_type": "code",
   "execution_count": 18,
   "metadata": {},
   "outputs": [
    {
     "name": "stderr",
     "output_type": "stream",
     "text": [
      "Setting up a new session...\n"
     ]
    },
    {
     "name": "stdout",
     "output_type": "stream",
     "text": [
      "timecycle_fresh_dataset:kinetics-xent_coef:1e-08-kldv_coef:1.0-dropout:0.5-clip_len:4-frame_transforms:crop,gray,flip_\n",
      "timecycle_fresh_dataset:kinetics-xent_coef:1.0-kldv_coef:1.0-dropout:0.0-clip_len:4-frame_transforms:crop-zero_diagonal:True_\n"
     ]
    }
   ],
   "source": [
    "import visdom\n",
    "vis = visdom.Visdom(port=8095)\n",
    "\n",
    "elist = [e for e in vis.get_env_list() if 'fresh' in e and 'metrics' not in e]\n",
    "\n",
    "for e in elist: print(e)"
   ]
  },
  {
   "cell_type": "code",
   "execution_count": 17,
   "metadata": {},
   "outputs": [
    {
     "data": {
      "text/plain": [
       "['', '', '', '', '', '', '']"
      ]
     },
     "execution_count": 17,
     "metadata": {},
     "output_type": "execute_result"
    }
   ],
   "source": [
    "[vis.delete_env(e) for e in elist]"
   ]
  },
  {
   "cell_type": "code",
   "execution_count": null,
   "metadata": {},
   "outputs": [],
   "source": []
  }
 ],
 "metadata": {
  "kernelspec": {
   "display_name": "Python 3",
   "language": "python",
   "name": "python3"
  },
  "language_info": {
   "codemirror_mode": {
    "name": "ipython",
    "version": 3
   },
   "file_extension": ".py",
   "mimetype": "text/x-python",
   "name": "python",
   "nbconvert_exporter": "python",
   "pygments_lexer": "ipython3",
   "version": "3.7.3"
  }
 },
 "nbformat": 4,
 "nbformat_minor": 4
}
